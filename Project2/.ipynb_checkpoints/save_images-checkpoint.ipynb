{
 "cells": [
  {
   "cell_type": "code",
   "execution_count": null,
   "metadata": {},
   "outputs": [],
   "source": [
    "#%matplotlib inline\n",
    "\n",
    "import os\n",
    "import numpy as np\n",
    "import nibabel as nib\n",
    "import glob\n",
    "from natsort import natsorted\n",
    "from scipy import ndimage as ndi\n",
    "from skimage import feature\n",
    "from scipy.misc import imsave\n",
    "import matplotlib.pyplot as plt"
   ]
  },
  {
   "cell_type": "code",
   "execution_count": null,
   "metadata": {},
   "outputs": [],
   "source": [
    "def preprocess_image(path, file):\n",
    "    filepath = os.path.join(path, file)\n",
    "    img = nib.load(filepath)\n",
    "    img_data = img.get_data()\n",
    "    img_data = img_data[:,:,100,0]\n",
    "    \n",
    "    x_zero = np.all(img_data==0, axis=1)\n",
    "    y_zero = np.all(img_data==0, axis=0)\n",
    "    img_data = np.delete(img_data, np.where(x_zero==1), axis=0)\n",
    "    img_data = np.delete(img_data, np.where(y_zero==1), axis=1)\n",
    "    \n",
    "#     img_data = img_data[:,:,100]\n",
    "    \n",
    "    img_data = ndi.gaussian_filter(img_data, 5)\n",
    "    img_data = np.uint8(img_data)\n",
    "    img_data = feature.canny(img_data, sigma=1.1)\n",
    "    \n",
    "    savepath = os.path.join(\"images\", file[0:-4] + \"_canny\" + \".png\")\n",
    "    imsave(savepath, img_data)"
   ]
  },
  {
   "cell_type": "code",
   "execution_count": null,
   "metadata": {},
   "outputs": [],
   "source": [
    "def image_to_png(path, file):\n",
    "    filepath = os.path.join(path, file)\n",
    "    img = nib.load(filepath)\n",
    "    img_data = img.get_data()\n",
    "    img_data = img_data[:,:,100,0]\n",
    "    \n",
    "    x_zero = np.all(img_data==0, axis=1)\n",
    "    y_zero = np.all(img_data==0, axis=0)\n",
    "    img_data = np.delete(img_data, np.where(x_zero==1), axis=0)\n",
    "    img_data = np.delete(img_data, np.where(y_zero==1), axis=1)\n",
    "    \n",
    "    savepath = os.path.join(\"images\", file[0:-4] + \".png\")\n",
    "    imsave(savepath, img_data)"
   ]
  },
  {
   "cell_type": "code",
   "execution_count": null,
   "metadata": {},
   "outputs": [],
   "source": []
  },
  {
   "cell_type": "code",
   "execution_count": null,
   "metadata": {},
   "outputs": [],
   "source": [
    "src_train_path = os.path.join(os.getcwd(), \"..\", \"data\", \"set_train\")\n",
    "src_test_path = os.path.join(os.getcwd(), \"..\", \"data\", \"set_test\")"
   ]
  },
  {
   "cell_type": "code",
   "execution_count": null,
   "metadata": {},
   "outputs": [],
   "source": [
    "train_filepaths = os.path.join(src_train_path, \"*.nii\")\n",
    "train_paths = (glob.glob(train_filepaths))\n",
    "train_names = [os.path.basename(x) for x in train_paths]\n",
    "train_names = natsorted(train_names)\n",
    "\n",
    "test_filepaths = os.path.join(src_test_path, \"*.nii\")\n",
    "test_paths = (glob.glob(test_filepaths))\n",
    "test_names = [os.path.basename(x) for x in test_paths]\n",
    "test_names = natsorted(test_names)"
   ]
  },
  {
   "cell_type": "code",
   "execution_count": null,
   "metadata": {},
   "outputs": [],
   "source": [
    "for name in train_names:\n",
    "    preprocess_image(src_train_path, name)\n",
    "for name in test_names:\n",
    "    preprocess_image(src_test_path, name)"
   ]
  }
 ],
 "metadata": {
  "kernelspec": {
   "display_name": "Python 3",
   "language": "python",
   "name": "python3"
  },
  "language_info": {
   "codemirror_mode": {
    "name": "ipython",
    "version": 3
   },
   "file_extension": ".py",
   "mimetype": "text/x-python",
   "name": "python",
   "nbconvert_exporter": "python",
   "pygments_lexer": "ipython3"
  }
 },
 "nbformat": 4,
 "nbformat_minor": 1
}
